{
 "cells": [
  {
   "cell_type": "code",
   "execution_count": 5,
   "id": "a62dd10a",
   "metadata": {},
   "outputs": [],
   "source": [
    "\n",
    "import pandas as pd  #  type: ignore\n",
    "\n",
    "pd.set_option(\"display.notebook_repr_html\", False)"
   ]
  },
  {
   "cell_type": "code",
   "execution_count": 6,
   "id": "f90c9756",
   "metadata": {},
   "outputs": [
    {
     "data": {
      "application/vnd.microsoft.datawrangler.viewer.v0+json": {
       "columns": [
        {
         "name": "index",
         "rawType": "int64",
         "type": "integer"
        },
        {
         "name": "driverId",
         "rawType": "int64",
         "type": "integer"
        },
        {
         "name": "truckId",
         "rawType": "int64",
         "type": "integer"
        },
        {
         "name": "eventTime",
         "rawType": "object",
         "type": "string"
        },
        {
         "name": "eventType",
         "rawType": "object",
         "type": "string"
        },
        {
         "name": "longitude",
         "rawType": "float64",
         "type": "float"
        },
        {
         "name": "latitude",
         "rawType": "float64",
         "type": "float"
        },
        {
         "name": "eventKey",
         "rawType": "object",
         "type": "string"
        },
        {
         "name": "CorrelationId",
         "rawType": "float64",
         "type": "float"
        },
        {
         "name": "driverName",
         "rawType": "object",
         "type": "string"
        },
        {
         "name": "routeId",
         "rawType": "int64",
         "type": "integer"
        },
        {
         "name": "routeName",
         "rawType": "object",
         "type": "string"
        },
        {
         "name": "eventDate",
         "rawType": "object",
         "type": "string"
        }
       ],
       "ref": "82200f27-03b4-4d7f-a40a-5f7a818e2ab0",
       "rows": [
        [
         "0",
         "14",
         "25",
         "59:21.4",
         "Normal",
         "-94.58",
         "37.03",
         "14|25|9223370572464814373",
         "3.66e+18",
         "Adis Cesir",
         "160405074",
         "Joplin to Kansas City Route 2",
         "2016-05-27-22"
        ],
        [
         "1",
         "18",
         "16",
         "59:21.7",
         "Normal",
         "-89.66",
         "39.78",
         "18|16|9223370572464814089",
         "3.66e+18",
         "Grant Liu",
         "1565885487",
         "Springfield to KC Via Hanibal",
         "2016-05-27-22"
        ],
        [
         "2",
         "27",
         "105",
         "59:21.7",
         "Normal",
         "-90.21",
         "38.65",
         "27|105|9223370572464814070",
         "3.66e+18",
         "Mark Lochbihler",
         "1325562373",
         "Springfield to KC Via Columbia Route 2",
         "2016-05-27-22"
        ],
        [
         "3",
         "11",
         "74",
         "59:21.7",
         "Normal",
         "-90.2",
         "38.65",
         "11|74|9223370572464814123",
         "3.66e+18",
         "Jamie Engesser",
         "1567254452",
         "Saint Louis to Memphis Route2",
         "2016-05-27-22"
        ],
        [
         "4",
         "22",
         "87",
         "59:21.7",
         "Normal",
         "-90.04",
         "35.19",
         "22|87|9223370572464814101",
         "3.66e+18",
         "Nadeem Asghar",
         "1198242881",
         " Saint Louis to Chicago Route2",
         "2016-05-27-22"
        ]
       ],
       "shape": {
        "columns": 12,
        "rows": 5
       }
      },
      "text/plain": [
       "   driverId  truckId eventTime eventType  longitude  latitude  \\\n",
       "0        14       25   59:21.4    Normal     -94.58     37.03   \n",
       "1        18       16   59:21.7    Normal     -89.66     39.78   \n",
       "2        27      105   59:21.7    Normal     -90.21     38.65   \n",
       "3        11       74   59:21.7    Normal     -90.20     38.65   \n",
       "4        22       87   59:21.7    Normal     -90.04     35.19   \n",
       "\n",
       "                     eventKey  CorrelationId       driverName     routeId  \\\n",
       "0   14|25|9223370572464814373   3.660000e+18       Adis Cesir   160405074   \n",
       "1   18|16|9223370572464814089   3.660000e+18        Grant Liu  1565885487   \n",
       "2  27|105|9223370572464814070   3.660000e+18  Mark Lochbihler  1325562373   \n",
       "3   11|74|9223370572464814123   3.660000e+18   Jamie Engesser  1567254452   \n",
       "4   22|87|9223370572464814101   3.660000e+18    Nadeem Asghar  1198242881   \n",
       "\n",
       "                                routeName      eventDate  \n",
       "0           Joplin to Kansas City Route 2  2016-05-27-22  \n",
       "1           Springfield to KC Via Hanibal  2016-05-27-22  \n",
       "2  Springfield to KC Via Columbia Route 2  2016-05-27-22  \n",
       "3           Saint Louis to Memphis Route2  2016-05-27-22  \n",
       "4           Saint Louis to Chicago Route2  2016-05-27-22  "
      ]
     },
     "execution_count": 6,
     "metadata": {},
     "output_type": "execute_result"
    }
   ],
   "source": [
    "# Carga del archivo desde un repo en GitHub\n",
    "truck_events = pd.read_csv(\"../files/input/truck_event_text_partition.csv\")\n",
    "\n",
    "# Cabecera del archivo\n",
    "truck_events.head()"
   ]
  },
  {
   "cell_type": "code",
   "execution_count": 7,
   "id": "14af3304",
   "metadata": {},
   "outputs": [
    {
     "data": {
      "application/vnd.microsoft.datawrangler.viewer.v0+json": {
       "columns": [
        {
         "name": "index",
         "rawType": "int64",
         "type": "integer"
        },
        {
         "name": "driverId",
         "rawType": "int64",
         "type": "integer"
        },
        {
         "name": "truckId",
         "rawType": "int64",
         "type": "integer"
        },
        {
         "name": "eventTime",
         "rawType": "object",
         "type": "string"
        },
        {
         "name": "eventType",
         "rawType": "object",
         "type": "string"
        },
        {
         "name": "longitude",
         "rawType": "float64",
         "type": "float"
        },
        {
         "name": "latitude",
         "rawType": "float64",
         "type": "float"
        },
        {
         "name": "eventKey",
         "rawType": "object",
         "type": "string"
        },
        {
         "name": "CorrelationId",
         "rawType": "float64",
         "type": "float"
        },
        {
         "name": "driverName",
         "rawType": "object",
         "type": "string"
        },
        {
         "name": "routeId",
         "rawType": "int64",
         "type": "integer"
        },
        {
         "name": "routeName",
         "rawType": "object",
         "type": "string"
        },
        {
         "name": "eventDate",
         "rawType": "object",
         "type": "string"
        }
       ],
       "ref": "dab552f4-c259-4994-b017-d8df3b512696",
       "rows": [
        [
         "0",
         "14",
         "25",
         "59:21.4",
         "Normal",
         "-94.58",
         "37.03",
         "14|25|9223370572464814373",
         "3.66e+18",
         "Adis Cesir",
         "160405074",
         "Joplin to Kansas City Route 2",
         "2016-05-27-22"
        ],
        [
         "1",
         "18",
         "16",
         "59:21.7",
         "Normal",
         "-89.66",
         "39.78",
         "18|16|9223370572464814089",
         "3.66e+18",
         "Grant Liu",
         "1565885487",
         "Springfield to KC Via Hanibal",
         "2016-05-27-22"
        ],
        [
         "2",
         "27",
         "105",
         "59:21.7",
         "Normal",
         "-90.21",
         "38.65",
         "27|105|9223370572464814070",
         "3.66e+18",
         "Mark Lochbihler",
         "1325562373",
         "Springfield to KC Via Columbia Route 2",
         "2016-05-27-22"
        ],
        [
         "3",
         "11",
         "74",
         "59:21.7",
         "Normal",
         "-90.2",
         "38.65",
         "11|74|9223370572464814123",
         "3.66e+18",
         "Jamie Engesser",
         "1567254452",
         "Saint Louis to Memphis Route2",
         "2016-05-27-22"
        ],
        [
         "4",
         "22",
         "87",
         "59:21.7",
         "Normal",
         "-90.04",
         "35.19",
         "22|87|9223370572464814101",
         "3.66e+18",
         "Nadeem Asghar",
         "1198242881",
         " Saint Louis to Chicago Route2",
         "2016-05-27-22"
        ],
        [
         "5",
         "22",
         "87",
         "59:22.3",
         "Normal",
         "-90.37",
         "35.21",
         "22|87|9223370572464813486",
         "3.66e+18",
         "Nadeem Asghar",
         "1198242881",
         " Saint Louis to Chicago Route2",
         "2016-05-27-22"
        ],
        [
         "6",
         "23",
         "68",
         "59:22.4",
         "Normal",
         "-89.91",
         "40.86",
         "23|68|9223370572464813450",
         "3.66e+18",
         "Adam Diaz",
         "160405074",
         "Joplin to Kansas City Route 2",
         "2016-05-27-22"
        ],
        [
         "7",
         "11",
         "74",
         "59:22.5",
         "Normal",
         "-89.74",
         "39.1",
         "11|74|9223370572464813355",
         "3.66e+18",
         "Jamie Engesser",
         "1567254452",
         "Saint Louis to Memphis Route2",
         "2016-05-27-22"
        ],
        [
         "8",
         "20",
         "41",
         "59:22.5",
         "Normal",
         "-93.36",
         "41.69",
         "20|41|9223370572464813344",
         "3.66e+18",
         "Chris Harris",
         "160779139",
         "Des Moines to Chicago Route 2",
         "2016-05-27-22"
        ],
        [
         "9",
         "32",
         "42",
         "59:22.5",
         "Normal",
         "-90.37",
         "35.21",
         "32|42|9223370572464813296",
         "3.66e+18",
         "Ryan Templeton",
         "1090292248",
         "Peoria to Ceder Rapids Route 2",
         "2016-05-27-22"
        ]
       ],
       "shape": {
        "columns": 12,
        "rows": 10
       }
      },
      "text/plain": [
       "   driverId  truckId eventTime eventType  longitude  latitude  \\\n",
       "0        14       25   59:21.4    Normal     -94.58     37.03   \n",
       "1        18       16   59:21.7    Normal     -89.66     39.78   \n",
       "2        27      105   59:21.7    Normal     -90.21     38.65   \n",
       "3        11       74   59:21.7    Normal     -90.20     38.65   \n",
       "4        22       87   59:21.7    Normal     -90.04     35.19   \n",
       "5        22       87   59:22.3    Normal     -90.37     35.21   \n",
       "6        23       68   59:22.4    Normal     -89.91     40.86   \n",
       "7        11       74   59:22.5    Normal     -89.74     39.10   \n",
       "8        20       41   59:22.5    Normal     -93.36     41.69   \n",
       "9        32       42   59:22.5    Normal     -90.37     35.21   \n",
       "\n",
       "                     eventKey  CorrelationId       driverName     routeId  \\\n",
       "0   14|25|9223370572464814373   3.660000e+18       Adis Cesir   160405074   \n",
       "1   18|16|9223370572464814089   3.660000e+18        Grant Liu  1565885487   \n",
       "2  27|105|9223370572464814070   3.660000e+18  Mark Lochbihler  1325562373   \n",
       "3   11|74|9223370572464814123   3.660000e+18   Jamie Engesser  1567254452   \n",
       "4   22|87|9223370572464814101   3.660000e+18    Nadeem Asghar  1198242881   \n",
       "5   22|87|9223370572464813486   3.660000e+18    Nadeem Asghar  1198242881   \n",
       "6   23|68|9223370572464813450   3.660000e+18        Adam Diaz   160405074   \n",
       "7   11|74|9223370572464813355   3.660000e+18   Jamie Engesser  1567254452   \n",
       "8   20|41|9223370572464813344   3.660000e+18     Chris Harris   160779139   \n",
       "9   32|42|9223370572464813296   3.660000e+18   Ryan Templeton  1090292248   \n",
       "\n",
       "                                routeName      eventDate  \n",
       "0           Joplin to Kansas City Route 2  2016-05-27-22  \n",
       "1           Springfield to KC Via Hanibal  2016-05-27-22  \n",
       "2  Springfield to KC Via Columbia Route 2  2016-05-27-22  \n",
       "3           Saint Louis to Memphis Route2  2016-05-27-22  \n",
       "4           Saint Louis to Chicago Route2  2016-05-27-22  \n",
       "5           Saint Louis to Chicago Route2  2016-05-27-22  \n",
       "6           Joplin to Kansas City Route 2  2016-05-27-22  \n",
       "7           Saint Louis to Memphis Route2  2016-05-27-22  \n",
       "8           Des Moines to Chicago Route 2  2016-05-27-22  \n",
       "9          Peoria to Ceder Rapids Route 2  2016-05-27-22  "
      ]
     },
     "execution_count": 7,
     "metadata": {},
     "output_type": "execute_result"
    }
   ],
   "source": [
    "\n",
    "# Obtención de un subconjunto de registros\n",
    "truck_events_subset = truck_events[0:10]\n",
    "truck_events_subset"
   ]
  },
  {
   "cell_type": "code",
   "execution_count": 8,
   "id": "010a49f1",
   "metadata": {},
   "outputs": [
    {
     "data": {
      "application/vnd.microsoft.datawrangler.viewer.v0+json": {
       "columns": [
        {
         "name": "index",
         "rawType": "int64",
         "type": "integer"
        },
        {
         "name": "driverId",
         "rawType": "int64",
         "type": "integer"
        },
        {
         "name": "eventTime",
         "rawType": "object",
         "type": "string"
        },
        {
         "name": "eventType",
         "rawType": "object",
         "type": "string"
        }
       ],
       "ref": "d1045dde-db74-40a2-9906-29ac37233ff6",
       "rows": [
        [
         "0",
         "14",
         "59:21.4",
         "Normal"
        ],
        [
         "1",
         "18",
         "59:21.7",
         "Normal"
        ],
        [
         "2",
         "27",
         "59:21.7",
         "Normal"
        ],
        [
         "3",
         "11",
         "59:21.7",
         "Normal"
        ],
        [
         "4",
         "22",
         "59:21.7",
         "Normal"
        ],
        [
         "5",
         "22",
         "59:22.3",
         "Normal"
        ],
        [
         "6",
         "23",
         "59:22.4",
         "Normal"
        ],
        [
         "7",
         "11",
         "59:22.5",
         "Normal"
        ],
        [
         "8",
         "20",
         "59:22.5",
         "Normal"
        ],
        [
         "9",
         "32",
         "59:22.5",
         "Normal"
        ]
       ],
       "shape": {
        "columns": 3,
        "rows": 10
       }
      },
      "text/plain": [
       "   driverId eventTime eventType\n",
       "0        14   59:21.4    Normal\n",
       "1        18   59:21.7    Normal\n",
       "2        27   59:21.7    Normal\n",
       "3        11   59:21.7    Normal\n",
       "4        22   59:21.7    Normal\n",
       "5        22   59:22.3    Normal\n",
       "6        23   59:22.4    Normal\n",
       "7        11   59:22.5    Normal\n",
       "8        20   59:22.5    Normal\n",
       "9        32   59:22.5    Normal"
      ]
     },
     "execution_count": 8,
     "metadata": {},
     "output_type": "execute_result"
    }
   ],
   "source": [
    "# Obtención de un subconjunto de columnas\n",
    "specific_columns = truck_events_subset[[\"driverId\", \"eventTime\", \"eventType\"]]\n",
    "specific_columns"
   ]
  },
  {
   "cell_type": "code",
   "execution_count": 9,
   "id": "5963b736",
   "metadata": {},
   "outputs": [
    {
     "data": {
      "application/vnd.microsoft.datawrangler.viewer.v0+json": {
       "columns": [
        {
         "name": "index",
         "rawType": "int64",
         "type": "integer"
        },
        {
         "name": "driverId",
         "rawType": "int64",
         "type": "integer"
        },
        {
         "name": "eventTime",
         "rawType": "object",
         "type": "string"
        },
        {
         "name": "eventType",
         "rawType": "object",
         "type": "string"
        }
       ],
       "ref": "90914f63-32c2-4343-8b96-7f810374f5ff",
       "rows": [
        [
         "0",
         "14",
         "59:21.4",
         "Normal"
        ],
        [
         "1",
         "18",
         "59:21.7",
         "Normal"
        ],
        [
         "2",
         "27",
         "59:21.7",
         "Normal"
        ],
        [
         "3",
         "11",
         "59:21.7",
         "Normal"
        ],
        [
         "4",
         "22",
         "59:21.7",
         "Normal"
        ],
        [
         "5",
         "22",
         "59:22.3",
         "Normal"
        ],
        [
         "6",
         "23",
         "59:22.4",
         "Normal"
        ],
        [
         "7",
         "11",
         "59:22.5",
         "Normal"
        ],
        [
         "8",
         "20",
         "59:22.5",
         "Normal"
        ],
        [
         "9",
         "32",
         "59:22.5",
         "Normal"
        ],
        [
         "10",
         "27",
         "59:22.6",
         "Normal"
        ]
       ],
       "shape": {
        "columns": 3,
        "rows": 11
       }
      },
      "text/plain": [
       "    driverId eventTime eventType\n",
       "0         14   59:21.4    Normal\n",
       "1         18   59:21.7    Normal\n",
       "2         27   59:21.7    Normal\n",
       "3         11   59:21.7    Normal\n",
       "4         22   59:21.7    Normal\n",
       "5         22   59:22.3    Normal\n",
       "6         23   59:22.4    Normal\n",
       "7         11   59:22.5    Normal\n",
       "8         20   59:22.5    Normal\n",
       "9         32   59:22.5    Normal\n",
       "10        27   59:22.6    Normal"
      ]
     },
     "execution_count": 9,
     "metadata": {},
     "output_type": "execute_result"
    }
   ],
   "source": [
    "# Obtención de un subconjunto de filas y columnas\n",
    "new_sub_set = truck_events.loc[0:10, [\"driverId\", \"eventTime\", \"eventType\"]]\n",
    "new_sub_set"
   ]
  },
  {
   "cell_type": "code",
   "execution_count": null,
   "id": "8584b6de",
   "metadata": {},
   "outputs": [],
   "source": [
    "\n",
    "# Obtención de un campo de un registro en particular\n",
    "truck_events.iloc[1]\n"
   ]
  },
  {
   "cell_type": "code",
   "execution_count": null,
   "id": "71824b70",
   "metadata": {},
   "outputs": [],
   "source": [
    "# Escritura de la tabla en el disco\n",
    "import os\n",
    "\n",
    "if not os.path.exists(\"../files/output/\"):\n",
    "    os.makedirs(\"../files/output/\")\n",
    "\n",
    "specific_columns.to_csv(\n",
    "    \"../files/output/specific-columns.csv\",\n",
    "    sep=\",\",\n",
    "    header=True,\n",
    "    index=False,\n",
    ")\n"
   ]
  }
 ],
 "metadata": {
  "kernelspec": {
   "display_name": ".venv",
   "language": "python",
   "name": "python3"
  },
  "language_info": {
   "codemirror_mode": {
    "name": "ipython",
    "version": 3
   },
   "file_extension": ".py",
   "mimetype": "text/x-python",
   "name": "python",
   "nbconvert_exporter": "python",
   "pygments_lexer": "ipython3",
   "version": "3.9.13"
  }
 },
 "nbformat": 4,
 "nbformat_minor": 5
}
